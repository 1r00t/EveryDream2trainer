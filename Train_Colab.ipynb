Skip to content
Search or jump to…
Pull requests
Issues
Codespaces
Marketplace
Explore
 
@nawnie 
nawnie
/
EveryDream2trainer
Public
forked from victorchall/EveryDream2trainer
Cannot fork because you own this repository and are not a member of any organizations.
Code
Pull requests
Actions
Projects
Wiki
Security
Insights
Settings
EveryDream2trainer
/
Train_Colab.ipynb
in
main
 

Spaces

2

No wrap
1
{
2
  "cells": [
3
    {
4
      "cell_type": "markdown",
5
      "metadata": {
6
        "id": "view-in-github",
7
        "colab_type": "text"
8
      },
9
      "source": [
10
        "<a href=\"https://colab.research.google.com/github/nawnie/EveryDream2trainer/blob/main/Train_Colab.ipynb\" target=\"_parent\"><img src=\"https://colab.research.google.com/assets/colab-badge.svg\" alt=\"Open In Colab\"/></a>"
11
      ]
12
    },
13
    {
14
      "cell_type": "markdown",
15
      "metadata": {
16
        "id": "blaLMSbkPHhG"
17
      },
18
      "source": [
19
        "# EveryDream2 Colab Edition\n",
20
        "\n",
21
        "Check out documentation here: https://github.com/victorchall/EveryDream2trainer#docs\n",
22
        "\n",
23
        "And join the discord: https://discord.gg/uheqxU6sXN"
24
      ]
25
    },
26
    {
27
      "cell_type": "code",
28
      "execution_count": null,
29
      "metadata": {
30
        "cellView": "form",
31
        "id": "WsYIcz9HY9lx"
32
      },
33
      "outputs": [],
34
      "source": [
35
        "#@title # Install python 3.10 \n",
36
        "#@markdown # This will show a runtime error, its ok, its on purpose to restart the kernel to update python.\n",
37
        "import os\n",
38
        "import time\n",
39
        "from IPython.display import clear_output\n",
40
        "!wget https://github.com/korakot/kora/releases/download/v0.10/py310.sh\n",
41
        "!bash ./py310.sh -b -f -p /usr/local\n",
42
        "!python -m ipykernel install --name \"py310\" --user\n",
43
        "clear_output()\n",
44
        "time.sleep(1) #needed to clear is before kill\n",
45
        "os.kill(os.getpid(), 9)"
@nawnie
Commit changes
Commit summary
Create Train_Colab.ipynb
Optional extended description
Add an optional extended description…
 Commit directly to the main branch.
 Create a new branch for this commit and start a pull request. Learn more about pull requests.
 
Footer
© 2023 GitHub, Inc.
Footer navigation
Terms
Privacy
Security
Status
Docs
Contact GitHub
Pricing
API
Training
Blog
About
